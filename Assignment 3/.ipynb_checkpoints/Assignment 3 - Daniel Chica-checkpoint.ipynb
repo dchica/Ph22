{
 "cells": [
  {
   "cell_type": "code",
   "execution_count": 80,
   "metadata": {},
   "outputs": [],
   "source": [
    "from matplotlib import pyplot as plt\n",
    "import numpy as np\n",
    "import matplotlib\n",
    "import math\n",
    "\n",
    "from ipywidgets import interact, widgets, fixed"
   ]
  },
  {
   "cell_type": "code",
   "execution_count": 291,
   "metadata": {},
   "outputs": [],
   "source": [
    "#Global Variables\n",
    "G = 6.6742*10**(-11)\n",
    "M2 = 1.989*10**30\n",
    "M1 = 1.899*10**27\n",
    "R = 778.3*10**9\n",
    "Tj = 3.743*10**8\n",
    "O = np.sqrt(G*(M1+M2)/R**3)\n",
    "\n",
    "#Smaller Variables for testing\n",
    "m = 1\n",
    "g = 3\n",
    "o = 1\n",
    "def nancheck(val):\n",
    "    '''Checks if a value is undefined and changes its value to 0'''\n",
    "    if type(val) == list or type(val) == np.ndarray:\n",
    "        outlist = []\n",
    "        for i in val:\n",
    "            if np.isnan(i):\n",
    "                outlist.append(0)\n",
    "            else:\n",
    "                outlist.append(i)\n",
    "        return np.array(outlist)\n",
    "    elif np.isnan(val):\n",
    "        return 0\n",
    "    else:\n",
    "        return val\n",
    "    \n",
    "def F0(t, h):\n",
    "    #Blank function if no velocity is needed (for testing)\n",
    "    tmp_list = [0, 0, 0]\n",
    "    func_list = []\n",
    "    for i in tmp_list:\n",
    "        tmp = nancheck(i)\n",
    "        func_list.append(tmp)\n",
    "    return np.array(func_list)\n",
    "\n",
    "def RK4(rfunc, vfunc, h, rini, vini):\n",
    "    ti = -4*np.pi/O\n",
    "    tf = 4*np.pi/O\n",
    "    t_list = np.linspace(ti, tf, num=(tf-ti)/h);\n",
    "\n",
    "    r0 = rini\n",
    "    v0 = vini\n",
    "    xout = []\n",
    "    yout = []\n",
    "    voutl = []\n",
    "    for t in t_list:\n",
    "        #This step solves dv/dt = force equation, results in v\n",
    "        vk1 = h * rfunc(r0, v0, h)\n",
    "        vk2 = h * (rfunc(r0+h/2, v0, h) + vk1/2)\n",
    "        vk3 = h * (rfunc(r0+h/2, v0, h) + vk2/2)\n",
    "        vk4 = h * (rfunc(r0+h, v0, h) + vk3)\n",
    "        vout = v0 + (1/6)*(vk1 + 2*vk2 + 2*vk3 + vk4)\n",
    "        #v0 = vout\n",
    "        \n",
    "        #This step solve dr/dt = v, results in r\n",
    "        rk1 = h * vfunc(v0, h)\n",
    "        rk2 = h * (vfunc(v0+h/2, h) + rk1/2)\n",
    "        rk3 = h * (vfunc(v0+h/2, h) + rk2/2)\n",
    "        rk4 = h * (vfunc(v0+h, h) + rk3)\n",
    "        rout = r0 + (1/6)*(rk1 + 2*rk2 + 2*rk3 + rk4)\n",
    "        \n",
    "        r0 = rout\n",
    "        v0 = vout\n",
    "        \n",
    "        #Separating x and y values for every step\n",
    "        xout.append(r0[0])\n",
    "        yout.append(r0[1])\n",
    "        \n",
    "    return (t_list, xout, yout)"
   ]
  },
  {
   "cell_type": "code",
   "execution_count": 82,
   "metadata": {},
   "outputs": [],
   "source": [
    "def vel_f(v, h):\n",
    "    #function representing v for the equation dr/dt = v\n",
    "    func_list = []\n",
    "    for i in v:\n",
    "        tmp = nancheck(i)\n",
    "        func_list.append(tmp)\n",
    "    return np.array(func_list)\n",
    "\n",
    "def vel_term_f(vx, vy, h):\n",
    "    #Returns velocity term to be used in force equation\n",
    "    vel_term = 2*m*O* np.array([vy, -vx, 0])\n",
    "    \n",
    "    func_list = []\n",
    "    for i in vel_term:\n",
    "        tmp = nancheck(i)\n",
    "        func_list.append(tmp)\n",
    "    return np.array(func_list)\n",
    "\n",
    "def rad_f(r, vi, h):\n",
    "    #Function representing the force equation for dv/dt = force\n",
    "    r1 = np.array([M2*R/(M1+M2),0,0])\n",
    "    r2 = np.array([-M1*R/(M1+M2),0,0])\n",
    "    \n",
    "    term1 = -G*m*M1*(r-r1)/(np.abs(r-r1)**3)\n",
    "    term2 = -G*m*M2*(r-r2)/(np.abs(r-r2)**3)\n",
    "    term3 = (m*O**2)*r\n",
    "    \n",
    "    #Velocity term needs flipped components so this step takes care of it\n",
    "    vx, vy, vz = vi\n",
    "    vel_term = vel_term_f(vx, vy, h)\n",
    "    \n",
    "    tmp_list = term1 + term2 + term3 + vel_term\n",
    "    func_list = []\n",
    "    for i in tmp_list:\n",
    "        tmp = nancheck(i)\n",
    "        func_list.append(tmp)\n",
    "    return np.array(func_list)\n",
    "\n",
    "def rinif(alpha):\n",
    "    #Given alpha, returns initial position\n",
    "    return R * np.array([((M2-M1)/(M1+M2))*np.cos(alpha), np.sin(alpha), 0])"
   ]
  },
  {
   "cell_type": "code",
   "execution_count": 294,
   "metadata": {},
   "outputs": [
    {
     "name": "stderr",
     "output_type": "stream",
     "text": [
      "C:\\ProgramData\\Anaconda3\\lib\\site-packages\\ipykernel_launcher.py:40: DeprecationWarning: object of type <class 'numpy.float64'> cannot be safely interpreted as an integer.\n",
      "C:\\ProgramData\\Anaconda3\\lib\\site-packages\\ipykernel_launcher.py:24: RuntimeWarning: invalid value encountered in true_divide\n",
      "C:\\ProgramData\\Anaconda3\\lib\\site-packages\\ipykernel_launcher.py:25: RuntimeWarning: invalid value encountered in true_divide\n",
      "C:\\ProgramData\\Anaconda3\\lib\\site-packages\\ipykernel_launcher.py:24: RuntimeWarning: overflow encountered in power\n",
      "C:\\ProgramData\\Anaconda3\\lib\\site-packages\\ipykernel_launcher.py:25: RuntimeWarning: overflow encountered in power\n",
      "C:\\ProgramData\\Anaconda3\\lib\\site-packages\\ipykernel_launcher.py:24: RuntimeWarning: overflow encountered in multiply\n",
      "C:\\ProgramData\\Anaconda3\\lib\\site-packages\\ipykernel_launcher.py:25: RuntimeWarning: overflow encountered in multiply\n"
     ]
    }
   ],
   "source": [
    "rini = rinif(np.pi/3)\n",
    "vini = R*O*np.array([1,1,0])\n",
    "\n",
    "tl, xl, yl = RK4(rad_f, vel_f, 10000, rini, vini)"
   ]
  },
  {
   "cell_type": "code",
   "execution_count": 304,
   "metadata": {},
   "outputs": [
    {
     "data": {
      "text/plain": [
       "[<matplotlib.lines.Line2D at 0x55097c611c8>]"
      ]
     },
     "execution_count": 304,
     "metadata": {},
     "output_type": "execute_result"
    },
    {
     "data": {
      "image/png": "[encoded data removed]",
      "text/plain": [
       "<Figure size 432x288 with 1 Axes>"
      ]
     },
     "metadata": {
      "needs_background": "light"
     },
     "output_type": "display_data"
    }
   ],
   "source": [
    "plt.xscale('log')\n",
    "plt.yscale('log')\n",
    "plt.plot(xl, yl, 's')"
   ]
  },
  {
   "cell_type": "markdown",
   "metadata": {},
   "source": [
    "Problem 2"
   ]
  },
  {
   "cell_type": "code",
   "execution_count": 287,
   "metadata": {},
   "outputs": [],
   "source": [
    "def vel_f_2(v, h):\n",
    "    #function representing v for the equation dr/dt = v\n",
    "    func_list = []\n",
    "    for i in v:\n",
    "        tmp = nancheck(i)\n",
    "        func_list.append(tmp)\n",
    "    return np.array(func_list)\n",
    "\n",
    "def rad_f_2(r, vi, h):\n",
    "    #Function representing the force equation for dv/dt = force\n",
    "    #Given a 3 body variable r separate into individual r_i\n",
    "    r1, r2, r3 = r\n",
    "    \n",
    "    #since mass is the same for all, will use M1 in each instance\n",
    "    #divided m from both sides of equation so only one m present\n",
    "    eq1 = -G*M1*(r1-r2)/(np.abs(r1-r2)**3)-G*M1*(r1-r3)/(np.abs(r1-r3)**3)\n",
    "    eq2 = -G*M1*(r2-r1)/(np.abs(r2-r1)**3)-G*M1*(r2-r3)/(np.abs(r2-r3)**3)\n",
    "    eq3 = -G*M1*(r3-r1)/(np.abs(r3-r1)**3)-G*M1*(r3-r2)/(np.abs(r3-r2)**3)\n",
    "    \n",
    "    tmp_list = [eq1, eq2, eq3]\n",
    "    func_list = []\n",
    "    for i in tmp_list:\n",
    "        tmp = nancheck(i)\n",
    "        func_list.append(tmp)\n",
    "    return np.array(func_list)\n",
    "\n",
    "def r_triangle_inif(d):\n",
    "    #Given the length of the triangle side d\n",
    "    #defines starting points for 3 bodies\n",
    "    b1 = d * np.array([np.cos(np.pi/3), np.sin(np.pi/3), 0])\n",
    "    b2 = d * np.array([np.cos(3*np.pi/3), np.sin(3*np.pi/3), 0])\n",
    "    b3 = d * np.array([np.cos(5*np.pi/3), np.sin(5*np.pi/3), 0])\n",
    "    \n",
    "    return np.array([b1, b2, b3])"
   ]
  },
  {
   "cell_type": "code",
   "execution_count": 292,
   "metadata": {},
   "outputs": [
    {
     "name": "stderr",
     "output_type": "stream",
     "text": [
      "C:\\ProgramData\\Anaconda3\\lib\\site-packages\\ipykernel_launcher.py:40: DeprecationWarning: object of type <class 'numpy.float64'> cannot be safely interpreted as an integer.\n",
      "C:\\ProgramData\\Anaconda3\\lib\\site-packages\\ipykernel_launcher.py:16: RuntimeWarning: invalid value encountered in true_divide\n",
      "  app.launch_new_instance()\n",
      "C:\\ProgramData\\Anaconda3\\lib\\site-packages\\ipykernel_launcher.py:17: RuntimeWarning: invalid value encountered in true_divide\n",
      "C:\\ProgramData\\Anaconda3\\lib\\site-packages\\ipykernel_launcher.py:18: RuntimeWarning: invalid value encountered in true_divide\n"
     ]
    }
   ],
   "source": [
    "rini2 = r_triangle_inif(5*R)\n",
    "\n",
    "#Set initial velocity to match expected\n",
    "z_ar = np.sqrt(G*M1/(5*R))* np.array([1,1,0])\n",
    "vini2 = np.array(3*[z_ar,])\n",
    "\n",
    "tl, xl2, yl2 = RK4(rad_f_2, vel_f, 10000, rini2, vini2)"
   ]
  },
  {
   "cell_type": "code",
   "execution_count": 293,
   "metadata": {},
   "outputs": [
    {
     "data": {
      "text/plain": [
       "[<matplotlib.lines.Line2D at 0x55079413708>,\n",
       " <matplotlib.lines.Line2D at 0x5507b49e3c8>,\n",
       " <matplotlib.lines.Line2D at 0x5507b49ed48>]"
      ]
     },
     "execution_count": 293,
     "metadata": {},
     "output_type": "execute_result"
    },
    {
     "data": {
      "image/png": "[encoded data removed]",
      "text/plain": [
       "<Figure size 432x288 with 1 Axes>"
      ]
     },
     "metadata": {
      "needs_background": "light"
     },
     "output_type": "display_data"
    }
   ],
   "source": [
    "plt.xscale('symlog')\n",
    "plt.yscale('symlog')\n",
    "#plt.axis([-1e22, 1e22, -1e22, 1e22])\n",
    "plt.plot(xl2, yl2, 's')"
   ]
  },
  {
   "cell_type": "markdown",
   "metadata": {},
   "source": [
    "Problem 3"
   ]
  },
  {
   "cell_type": "code",
   "execution_count": 305,
   "metadata": {},
   "outputs": [],
   "source": [
    "def ini3(d):\n",
    "    #Dummy variable input to keep this as a function\n",
    "    b1 = np.array([.97000436, -.24308753,0])\n",
    "    b2 = -1 * b1\n",
    "    b3 = 0 * b1\n",
    "    bout = np.array([b1, b2, b3])\n",
    "    \n",
    "    v3 = np.array([-.93240737, -.86473146,0])\n",
    "    v1 = -(1/2) * v3\n",
    "    v2 = v1\n",
    "    vout = np.array([v1, v2, v3])\n",
    "    \n",
    "    return (bout, vout)\n",
    "\n",
    "def rad_f_2(r, vi, h):\n",
    "    #Function representing the force equation for dv/dt = force\n",
    "    #Given a 3 body variable r separate into individual r_i\n",
    "    r1, r2, r3 = r\n",
    "    \n",
    "    #since mass is the same for all, will use M1 in each instance\n",
    "    #divided m from both sides of equation so only one m present\n",
    "    eq1 = -g*m*(r1-r2)/(np.abs(r1-r2)**3)-g*m*(r1-r3)/(np.abs(r1-r3)**3)\n",
    "    eq2 = -g*m*(r2-r1)/(np.abs(r2-r1)**3)-g*m*(r2-r3)/(np.abs(r2-r3)**3)\n",
    "    eq3 = -g*m*(r3-r1)/(np.abs(r3-r1)**3)-g*m*(r3-r2)/(np.abs(r3-r2)**3)\n",
    "    \n",
    "    tmp_list = [eq1, eq2, eq3]\n",
    "    func_list = []\n",
    "    for i in tmp_list:\n",
    "        tmp = nancheck(i)\n",
    "        func_list.append(tmp)\n",
    "    return np.array(func_list)\n",
    "\n",
    "def RK4_3(rfunc, vfunc, h, rini, vini):\n",
    "    #Changes the use of global variables to 1, otherwise same\n",
    "    ti = -12*np.pi/o\n",
    "    tf = 12*np.pi/o\n",
    "    t_list = np.linspace(ti, tf, num=(tf-ti)/h);\n",
    "\n",
    "    r0 = rini\n",
    "    v0 = vini\n",
    "    xout = []\n",
    "    yout = []\n",
    "    for t in t_list:\n",
    "        #This step solves dv/dt = force equation, results in v\n",
    "        vk1 = h * rfunc(r0, v0, h)\n",
    "        vk2 = h * (rfunc(r0+h/2, v0, h) + vk1/2)\n",
    "        vk3 = h * (rfunc(r0+h/2, v0, h) + vk2/2)\n",
    "        vk4 = h * (rfunc(r0+h, v0, h) + vk3)\n",
    "        vout = v0 + (1/6)*(vk1 + 2*vk2 + 2*vk3 + vk4)\n",
    "        \n",
    "        \n",
    "        #This step solve dr/dt = v, results in r\n",
    "        rk1 = h * vfunc(v0, h)\n",
    "        rk2 = h * (vfunc(v0+h/2, h) + rk1/2)\n",
    "        rk3 = h * (vfunc(v0+h/2, h) + rk2/2)\n",
    "        rk4 = h * (vfunc(v0+h, h) + rk3)\n",
    "        rout = r0 + (1/6)*(rk1 + 2*rk2 + 2*rk3 + rk4)\n",
    "        \n",
    "        r0 = rout\n",
    "        v0 = vout\n",
    "        \n",
    "        #Separating x and y values for every step\n",
    "        xout.append(r0[0])\n",
    "        yout.append(r0[1])\n",
    "        \n",
    "    return (t_list, xout, yout)"
   ]
  },
  {
   "cell_type": "code",
   "execution_count": 317,
   "metadata": {},
   "outputs": [
    {
     "name": "stderr",
     "output_type": "stream",
     "text": [
      "C:\\ProgramData\\Anaconda3\\lib\\site-packages\\ipykernel_launcher.py:37: DeprecationWarning: object of type <class 'float'> cannot be safely interpreted as an integer.\n",
      "C:\\ProgramData\\Anaconda3\\lib\\site-packages\\ipykernel_launcher.py:22: RuntimeWarning: invalid value encountered in true_divide\n",
      "C:\\ProgramData\\Anaconda3\\lib\\site-packages\\ipykernel_launcher.py:23: RuntimeWarning: invalid value encountered in true_divide\n",
      "C:\\ProgramData\\Anaconda3\\lib\\site-packages\\ipykernel_launcher.py:24: RuntimeWarning: invalid value encountered in true_divide\n"
     ]
    }
   ],
   "source": [
    "rini3, vini3 = ini3(0)\n",
    "tl, xl3, yl3 = RK4_3(rad_f_2, vel_f, .01, rini3, vini3)"
   ]
  },
  {
   "cell_type": "code",
   "execution_count": 319,
   "metadata": {},
   "outputs": [
    {
     "data": {
      "text/plain": [
       "[<matplotlib.lines.Line2D at 0x55087d085c8>,\n",
       " <matplotlib.lines.Line2D at 0x5507938f488>,\n",
       " <matplotlib.lines.Line2D at 0x55093d8b788>]"
      ]
     },
     "execution_count": 319,
     "metadata": {},
     "output_type": "execute_result"
    },
    {
     "data": {
      "image/png": "[encoded data removed]",
      "text/plain": [
       "<Figure size 432x288 with 1 Axes>"
      ]
     },
     "metadata": {
      "needs_background": "light"
     },
     "output_type": "display_data"
    }
   ],
   "source": [
    "plt.xscale('symlog')\n",
    "plt.yscale('symlog')\n",
    "#plt.axis([0, 300, -300, 300])\n",
    "plt.plot(xl3, yl3, 's')"
   ]
  },
  {
   "cell_type": "code",
   "execution_count": null,
   "metadata": {},
   "outputs": [],
   "source": []
  },
  {
   "cell_type": "code",
   "execution_count": null,
   "metadata": {},
   "outputs": [],
   "source": []
  }
 ],
 "metadata": {
  "kernelspec": {
   "display_name": "Python 3",
   "language": "python",
   "name": "python3"
  },
  "language_info": {
   "codemirror_mode": {
    "name": "ipython",
    "version": 3
   },
   "file_extension": ".py",
   "mimetype": "text/x-python",
   "name": "python",
   "nbconvert_exporter": "python",
   "pygments_lexer": "ipython3",
   "version": "3.7.4"
  }
 },
 "nbformat": 4,
 "nbformat_minor": 2
}
