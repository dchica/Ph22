{
 "cells": [
  {
   "cell_type": "markdown",
   "metadata": {},
   "source": [
    "Problem 2"
   ]
  },
  {
   "cell_type": "code",
   "execution_count": 261,
   "metadata": {},
   "outputs": [],
   "source": [
    "from matplotlib import pyplot as plt\n",
    "import numpy as np\n",
    "import sys"
   ]
  },
  {
   "cell_type": "code",
   "execution_count": 295,
   "metadata": {},
   "outputs": [],
   "source": [
    "#This function allows me to interpret the input as mathematical function\n",
    "def parse(f):\n",
    "    '''This method takes the function f(z)=0 as a string input'''\n",
    "    ''' and converts it into a mathematical function.'''\n",
    "    if isinstance(f, str) == False:\n",
    "        sys.exit('Please input f(z) as a string as you would using numpy')\n",
    "    flist = f.split('z');\n",
    "    fchange = ''\n",
    "    ffinal = []\n",
    "    for i, e in enumerate(flist):\n",
    "        if i == len(flist) - 1:\n",
    "            fchange += e\n",
    "        else:\n",
    "            fchange += e\n",
    "            fchange += '%s'\n",
    "    ffinal.append(fchange)\n",
    "    ffinal.append(len(flist) - 1)\n",
    "    return ffinal\n",
    "    \n",
    "def bisection(f, *zarg):\n",
    "    '''The method takes a function f(x)=0, and 2 initial x's'''\n",
    "    ''' as parameters, and implements the bisection method'''\n",
    "    '''on it to find a root.'''\n",
    "    if len(zarg) != 2:\n",
    "        sys.exit(\"Please enter two valid values \"\n",
    "        \"for z1 and z2 as initial guesses\")\n",
    "    z1, z2 = zarg;\n",
    "    tol = .00001;\n",
    "    zrange = np.abs(z2 - z1)\n",
    "    zr_list = [zrange]\n",
    "    func, t_len = parse(f)\n",
    "    while  zrange > tol:\n",
    "        z0 = (z1 + z2) / 2;\n",
    "        zt0 = (z0,) * t_len;\n",
    "        zt1 = (z1,) * t_len;\n",
    "        f0 = eval(func % zt0)\n",
    "        f1 = eval(func % zt1)\n",
    "        if np.sign(f0) == np.sign(f1):\n",
    "            z1 = z0\n",
    "            zrange = np.abs(z2 - z1)\n",
    "            zr_list.append(zrange)\n",
    "        else:\n",
    "            z2 = z0\n",
    "            zrange = np.abs(z2 - z1)\n",
    "            zr_list.append(zrange) #Radius of convergence\n",
    "    return(zr_list, z2) #Radius and the final value of the root\n",
    "    \n",
    "def NRmethod(f1, f2, *zarg):\n",
    "    '''The method takes a function f1(z)=0, its derivative f2(z)=f1'(z)'''\n",
    "    '''and an initial z1 as a parameter and implements'''\n",
    "    '''the Newton-Raphson method on it to find a root.'''\n",
    "    if len(zarg) == 0:\n",
    "        sys.exit(\"Please enter a valid value \"\n",
    "        \"for z1 as an initial guess\")\n",
    "    z1 = zarg[0];\n",
    "    tol = .00001;\n",
    "    func1, t_len1 = parse(f1)\n",
    "    func2, t_len2 = parse(f2)\n",
    "    func1val = 2 * tol; #ensures initial run\n",
    "    zr_list = []\n",
    "    while np.abs(func1val) > tol:\n",
    "        zt1 = (z1,) * t_len1;\n",
    "        zt2 = (z1,) * t_len2;\n",
    "        if t_len2 == 0:\n",
    "            f1 = eval(func1 % zt1);\n",
    "            f2 = eval(func2);\n",
    "        else:\n",
    "            f1 = eval(func1 % zt1);\n",
    "            f2 = eval(func2 % zt2);\n",
    "        z1 = z1 - (f1 / f2);\n",
    "        ztf = (z1,) * t_len1;\n",
    "        func1val = eval(func1 % ztf)\n",
    "        zr_list.append(np.abs(f1/f2)) #Radius of convergence\n",
    "    return(zr_list, z1) #Radius and the final value of the root\n",
    "\n",
    "def secant(f, *zarg):\n",
    "    '''The method takes a function f(z)=0, and initial guesses'''\n",
    "    '''for z1 and z2 as parameters and implements'''\n",
    "    '''the secant method on it to find a root.'''\n",
    "    if len(zarg) != 2:\n",
    "        sys.exit(\"Please enter two valid values \"\n",
    "        \"for z1 and z2 as initial guesses\")\n",
    "    z1, z2 = zarg;\n",
    "    tol = .00001;\n",
    "    func, t_len = parse(f);\n",
    "    fval = 2 * tol; #ensures initial run\n",
    "    zr_list = []\n",
    "    while np.abs(fval) > tol:\n",
    "        zt1 = (z1,) * t_len;\n",
    "        zt2 = (z2,) * t_len;\n",
    "        f1 = eval(func % zt1);\n",
    "        f2 = eval(func % zt2);\n",
    "        der = (f2 - f1) / (z2 - z1);\n",
    "        z3 = z2 - (f2 / der);\n",
    "        z1 = z2;\n",
    "        z2 = z3;\n",
    "        ztf = (z2,) * t_len;\n",
    "        fval = eval(func % ztf);\n",
    "        zr_list.append(np.abs(z2 - z1)) #Radius of convergence\n",
    "    return(zr_list, z2) #Radius and the final value of the root"
   ]
  },
  {
   "cell_type": "code",
   "execution_count": 296,
   "metadata": {},
   "outputs": [],
   "source": [
    "b_list = bisection('np.sin(z)-.5',-1,2)[0]\n",
    "NR_list = NRmethod('np.sin(z)-.5','np.cos(z)',2)[0]\n",
    "s_list = secant('np.sin(z)-.5', 0, 1.5)[0]"
   ]
  },
  {
   "cell_type": "code",
   "execution_count": 297,
   "metadata": {},
   "outputs": [
    {
     "data": {
      "image/png": "[encoded data removed]",
      "text/plain": [
       "<Figure size 432x288 with 1 Axes>"
      ]
     },
     "metadata": {
      "needs_background": "light"
     },
     "output_type": "display_data"
    }
   ],
   "source": [
    "plt.plot(b_list, label = 'Bisection')\n",
    "plt.plot(NR_list, label = 'Newton-Raphson')\n",
    "plt.plot(s_list, label = 'Secant')\n",
    "plt.legend()\n",
    "plt.xlabel(\"Number of iterations\");\n",
    "plt.ylabel(\"Radius of convergence\");"
   ]
  },
  {
   "cell_type": "markdown",
   "metadata": {},
   "source": [
    "Problem 3"
   ]
  },
  {
   "cell_type": "code",
   "execution_count": 374,
   "metadata": {},
   "outputs": [],
   "source": [
    "#Define variables\n",
    "e = 0.617139;\n",
    "T = 27906.98161;\n",
    "a = 2.34186 * 3 * 10**8;\n",
    "\n",
    "time_l = np.linspace(0, 15000, num=15001);\n",
    "\n",
    "#Find a list of values for ξ\n",
    "zlist = []\n",
    "for t in time_l:\n",
    "    root = NRmethod('T/(2*np.pi) * (z - e * np.sin(z)) - t',\\\n",
    "                    'T/(2*np.pi) * (1 - e * np.cos(z))', -5, 5)[1]\n",
    "    zlist.append(root)\n",
    "    \n",
    "#Making a list of x and y values for the orbit\n",
    "x_list = a * np.cos(zlist) - e;\n",
    "y_list = a * np.sqrt(1 - e**2) * np.sin(zlist);\n",
    "ny_list = (-1) * a * np.sqrt(1 - e**2) * np.sin(zlist);"
   ]
  },
  {
   "cell_type": "code",
   "execution_count": 324,
   "metadata": {},
   "outputs": [
    {
     "data": {
      "text/plain": [
       "[<matplotlib.lines.Line2D at 0x2056363c248>]"
      ]
     },
     "execution_count": 324,
     "metadata": {},
     "output_type": "execute_result"
    },
    {
     "data": {
      "image/png": "[encoded data removed]",
      "text/plain": [
       "<Figure size 432x288 with 1 Axes>"
      ]
     },
     "metadata": {
      "needs_background": "light"
     },
     "output_type": "display_data"
    }
   ],
   "source": [
    "#Plotting the lists, I also plotted a negative version of y(ξ)\n",
    "#in order to get the entire orbit\n",
    "plt.plot(x_list, y_list)\n",
    "plt.plot(x_list, ny_list)"
   ]
  },
  {
   "cell_type": "markdown",
   "metadata": {},
   "source": [
    "Problem 4"
   ]
  },
  {
   "cell_type": "code",
   "execution_count": 392,
   "metadata": {},
   "outputs": [],
   "source": [
    "#Find the derivatives of x and y\n",
    "dt = .0000001;\n",
    "xp_list = [];\n",
    "yp_list = [];\n",
    "\n",
    "#Find a list of values for ξ\n",
    "zlist_pdt = []\n",
    "zlist_ndt = []\n",
    "for t in time_l:\n",
    "    proot = NRmethod('T/(2*np.pi) * (z - e * np.sin(z)) - (t + dt)',\\\n",
    "                    'T/(2*np.pi) * (1 - e * np.cos(z))', -5, 5)[1]\n",
    "    nroot = NRmethod('T/(2*np.pi) * (z - e * np.sin(z)) - (t - dt)',\\\n",
    "                    'T/(2*np.pi) * (1 - e * np.cos(z))', -5, 5)[1]\n",
    "    zlist_pdt.append(proot)\n",
    "    zlist_ndt.append(nroot)\n",
    "    \n",
    "#Find a list of values for x'(t) and y'(t)\n",
    "xp = ((a * np.cos(zlist_pdt) - e) - (a * np.cos(zlist) - e)) / dt;\n",
    "yp = ((a * np.sqrt(1 - e**2) * np.sin(zlist_ndt)) - (a * np.sqrt(1 - e**2) * np.sin(zlist))) / dt;"
   ]
  },
  {
   "cell_type": "code",
   "execution_count": 393,
   "metadata": {},
   "outputs": [],
   "source": [
    "#Guessing a value for phi\n",
    "phi = np.pi/2\n",
    "xp_c = xp * np.cos(phi);\n",
    "yp_c = yp * np.sin(phi);\n",
    "rv = np.sqrt(xp**2 +yp**2) / 1000;"
   ]
  },
  {
   "cell_type": "code",
   "execution_count": 394,
   "metadata": {},
   "outputs": [
    {
     "data": {
      "text/plain": [
       "[<matplotlib.lines.Line2D at 0x20563b6a5c8>]"
      ]
     },
     "execution_count": 394,
     "metadata": {},
     "output_type": "execute_result"
    },
    {
     "data": {
      "image/png": "[encoded data removed]",
      "text/plain": [
       "<Figure size 432x288 with 1 Axes>"
      ]
     },
     "metadata": {
      "needs_background": "light"
     },
     "output_type": "display_data"
    }
   ],
   "source": [
    "#Plotting the lists, I also plotted a negative version of y(ξ)\n",
    "#in order to get the entire orbit\n",
    "plt.plot(time_l/T, rv)"
   ]
  },
  {
   "cell_type": "code",
   "execution_count": null,
   "metadata": {},
   "outputs": [],
   "source": []
  }
 ],
 "metadata": {
  "kernelspec": {
   "display_name": "Python 3",
   "language": "python",
   "name": "python3"
  },
  "language_info": {
   "codemirror_mode": {
    "name": "ipython",
    "version": 3
   },
   "file_extension": ".py",
   "mimetype": "text/x-python",
   "name": "python",
   "nbconvert_exporter": "python",
   "pygments_lexer": "ipython3",
   "version": "3.7.4"
  }
 },
 "nbformat": 4,
 "nbformat_minor": 2
}
