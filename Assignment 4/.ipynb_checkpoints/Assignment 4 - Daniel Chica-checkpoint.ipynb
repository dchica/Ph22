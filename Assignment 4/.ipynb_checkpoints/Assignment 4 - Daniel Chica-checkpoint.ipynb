{
 "cells": [
  {
   "cell_type": "code",
   "execution_count": 1,
   "metadata": {},
   "outputs": [],
   "source": [
    "from matplotlib import pyplot as plt\n",
    "import numpy as np\n",
    "import matplotlib\n",
    "import math\n",
    "\n",
    "from ipywidgets import interact, widgets, fixed"
   ]
  },
  {
   "cell_type": "code",
   "execution_count": 19,
   "metadata": {},
   "outputs": [],
   "source": [
    "def nancheck(val):\n",
    "    '''Checks if a value is undefined and changes its value to 0'''\n",
    "    if type(val) == list or type(val) == np.ndarray:\n",
    "        outlist = []\n",
    "        for i in val:\n",
    "            if np.isnan(i):\n",
    "                outlist.append(0)\n",
    "            else:\n",
    "                outlist.append(i)\n",
    "        return np.array(outlist)\n",
    "    elif np.isnan(val):\n",
    "        return 0\n",
    "    else:\n",
    "        return val\n",
    "    \n",
    "def F0(t, h):\n",
    "    #Blank function if no velocity is needed (for testing)\n",
    "    tmp_list = [0, 0, 0]\n",
    "    func_list = []\n",
    "    for i in tmp_list:\n",
    "        tmp = nancheck(i)\n",
    "        func_list.append(tmp)\n",
    "    return np.array(func_list)\n",
    "\n",
    "def vel_f(v, h):\n",
    "    #function representing v for the equation dr/dt = v\n",
    "    func_list = []\n",
    "    for i in v:\n",
    "        tmp = nancheck(i)\n",
    "        func_list.append(tmp)\n",
    "    return np.array(func_list)\n",
    "\n",
    "def RK4(rfunc, vfunc, h, rini, thini, vini):\n",
    "    ti = -4*np.pi\n",
    "    tf = 4*np.pi\n",
    "    t_list = np.linspace(ti, tf, num=(tf-ti)/h);\n",
    "\n",
    "    r0 = rini\n",
    "    th0 = thini\n",
    "    v0 = vini\n",
    "    \n",
    "    r0_c = initpos(r0, th0)\n",
    "    \n",
    "    xout = []\n",
    "    yout = []\n",
    "    voutl = []\n",
    "    for t in t_list:\n",
    "        #This step solves dv/dt = force equation, results in v\n",
    "        vk1 = h * rfunc(r0, th0, 0)\n",
    "        vk2 = h * (rfunc(r0, th0, h/2) + vk1/2)\n",
    "        vk3 = h * (rfunc(r0, th0, h/2) + vk2/2)\n",
    "        vk4 = h * (rfunc(r0, th0, h) + vk3)\n",
    "        vout = v0 + (1/6)*(vk1 + 2*vk2 + 2*vk3 + vk4)\n",
    "        #v0 = vout\n",
    "        \n",
    "        #This step solve dr/dt = v, results in r\n",
    "        rk1 = h * vfunc(v0, h)\n",
    "        rk2 = h * (vfunc(v0+h/2, h) + rk1/2)\n",
    "        rk3 = h * (vfunc(v0+h/2, h) + rk2/2)\n",
    "        rk4 = h * (vfunc(v0+h, h) + rk3)\n",
    "        rout = r0_c + (1/6)*(rk1 + 2*rk2 + 2*rk3 + rk4)\n",
    "        \n",
    "        r0_c = rout\n",
    "        r0 = np.sqrt(r0_c[0]**2 + r0_c[1]**2)\n",
    "        v0 = vout\n",
    "        \n",
    "        #Separating x and y values for every step\n",
    "        xout.append(r0_c[0])\n",
    "        yout.append(r0_c[1])\n",
    "        \n",
    "    return (t_list, xout, yout)\n",
    "\n",
    "def FF(m, r):\n",
    "    #G = 6.6742*10**(-11)\n",
    "    G = 1\n",
    "    if r == 0 or r < .00001:\n",
    "        return 0\n",
    "    else:\n",
    "        return G * m / (r**2)\n",
    "\n",
    "def ForceList(rlist, thlist, inc):\n",
    "    m = 1; #arbitrary for now\n",
    "    xlist = []\n",
    "    ylist = []\n",
    "\n",
    "    for i, r1 in enumerate(rlist):\n",
    "        xtmp = 0\n",
    "        ytmp = 0\n",
    "        \n",
    "        #tmp_i = rlist[i+1:]\n",
    "        #for j, e2 in enumerate(tmp_i):\n",
    "        for j, r2 in enumerate(rlist):\n",
    "            rdif = np.sqrt(r1**2 + r2**2 - 2*r1*r2*np.cos(thlist[i]-thlist[j]))\n",
    "            #print(rdif)\n",
    "            ry1 = r1*np.sin(thlist[i])\n",
    "            ry2 = r2*np.sin(thlist[j])\n",
    "            \n",
    "            rx1 = r1*np.cos(thlist[i])\n",
    "            rx2 = r2*np.cos(thlist[j])\n",
    "            \n",
    "            ydif = ry2-ry1\n",
    "            xdif = rx2-rx1\n",
    "            if rdif == 0:\n",
    "                theta = 0;\n",
    "            else:\n",
    "                theta = np.arctan(np.abs(ydif/xdif)) #relative theta between points\n",
    "            #print(theta)\n",
    "            xf, yf = FF(m, rdif)*np.array([np.cos(theta), np.sin(theta)])\n",
    "            #print(xf, yf)\n",
    "            xtmp += xf * np.sign(xdif)\n",
    "            ytmp += yf * np.sign(ydif)\n",
    "        xlist.append(xtmp + inc)\n",
    "        ylist.append(ytmp + inc)\n",
    "    return np.array([xlist, ylist])\n",
    "\n",
    "def initpos(thlist, rlist):\n",
    "    xout = []\n",
    "    yout = []\n",
    "    for i, e in enumerate(rlist):\n",
    "        xout.append(e * np.cos(thlist[i]))\n",
    "        yout.append(e * np.sin(thlist[i]))\n",
    "    return (np.array(xout), np.array(yout))\n",
    "\n",
    "def maxcheck(x):\n",
    "    lim = 0\n",
    "    for i in x:\n",
    "        tmp1 = max(x)\n",
    "        tmp2 = np.abs(min(x))\n",
    "        tmp3 = 0\n",
    "        if tmp1 > tmp2:\n",
    "            tmp3 = tmp1\n",
    "        else:\n",
    "            tmp3 = tmp2\n",
    "        if tmp3 > lim:\n",
    "            lim = tmp3\n",
    "    return lim\n",
    "\n",
    "def lim(x):\n",
    "    lim = maxcheck(x[-1])\n",
    "    return math.ceil(lim*1.2)\n",
    "\n",
    "def IntPlot(t, x, y, limx, limy):\n",
    "    plt.plot(x[t], y[t], 'ro')\n",
    "    plt.xlim(-limx, limx)\n",
    "    plt.ylim(-limy, limy)\n",
    "    return (x[t], y[t])"
   ]
  },
  {
   "cell_type": "code",
   "execution_count": 39,
   "metadata": {},
   "outputs": [
    {
     "name": "stderr",
     "output_type": "stream",
     "text": [
      "C:\\ProgramData\\Anaconda3\\lib\\site-packages\\ipykernel_launcher.py:36: DeprecationWarning: object of type <class 'float'> cannot be safely interpreted as an integer.\n",
      "C:\\ProgramData\\Anaconda3\\lib\\site-packages\\ipykernel_launcher.py:93: RuntimeWarning: invalid value encountered in sqrt\n",
      "C:\\ProgramData\\Anaconda3\\lib\\site-packages\\ipykernel_launcher.py:106: RuntimeWarning: invalid value encountered in double_scalars\n"
     ]
    }
   ],
   "source": [
    "#thl = np.array([2*np.pi, np.pi/2, np.pi, 3*np.pi/2])\n",
    "#rl = np.array([1, 2, 3, 4])\n",
    "#vl = np.array([1,1.5,.5,1])\n",
    "thl = np.random.rand(5) * 2*np.pi\n",
    "rl = np.random.rand(5)\n",
    "vl = np.random.rand(5)*.1 * np.random.choice((-1,1))\n",
    "\n",
    "\n",
    "tl, x, y = RK4(ForceList, vel_f, .05, rl, thl, vl)\n",
    "limx = lim(x)\n",
    "limy = lim(y)"
   ]
  },
  {
   "cell_type": "code",
   "execution_count": 40,
   "metadata": {},
   "outputs": [
    {
     "data": {
      "application/vnd.jupyter.widget-view+json": {
       "model_id": "0a47aeef25a441f8b8ebb2a60337eaef",
       "version_major": 2,
       "version_minor": 0
      },
      "text/plain": [
       "interactive(children=(IntSlider(value=300, description='t', max=501), Output()), _dom_classes=('widget-interac…"
      ]
     },
     "metadata": {},
     "output_type": "display_data"
    }
   ],
   "source": [
    "#Test on 4 particle system\n",
    "interact(IntPlot, x = fixed(x), y=fixed(y), limx=fixed(limx), limy=fixed(limy), t=widgets.IntSlider(min=0, max=len(x)-1, step=1, value= 300));"
   ]
  },
  {
   "cell_type": "code",
   "execution_count": 30,
   "metadata": {},
   "outputs": [
    {
     "name": "stderr",
     "output_type": "stream",
     "text": [
      "C:\\ProgramData\\Anaconda3\\lib\\site-packages\\ipykernel_launcher.py:36: DeprecationWarning: object of type <class 'float'> cannot be safely interpreted as an integer.\n",
      "C:\\ProgramData\\Anaconda3\\lib\\site-packages\\ipykernel_launcher.py:93: RuntimeWarning: invalid value encountered in sqrt\n",
      "C:\\ProgramData\\Anaconda3\\lib\\site-packages\\ipykernel_launcher.py:106: RuntimeWarning: invalid value encountered in double_scalars\n"
     ]
    }
   ],
   "source": [
    "#Setting up random intital conditions\n",
    "r_thl = np.random.rand(100) * 2*np.pi\n",
    "r_rl = np.random.rand(100)\n",
    "r_vl = np.random.rand(100)*.1 * np.random.choice((-1,1))\n",
    "tl, r_x, r_y = RK4(ForceList, vel_f, .01, r_rl, r_thl, r_vl)\n",
    "\n",
    "limrx = lim(r_x)\n",
    "limry = lim(r_y)"
   ]
  },
  {
   "cell_type": "code",
   "execution_count": 31,
   "metadata": {},
   "outputs": [
    {
     "data": {
      "application/vnd.jupyter.widget-view+json": {
       "model_id": "6957a663a43a428899275065f29fd8a4",
       "version_major": 2,
       "version_minor": 0
      },
      "text/plain": [
       "interactive(children=(IntSlider(value=1256, description='t', max=2512), Output()), _dom_classes=('widget-inter…"
      ]
     },
     "metadata": {},
     "output_type": "display_data"
    }
   ],
   "source": [
    "#Large-Scale simulation\n",
    "interact(IntPlot, x = fixed(r_x), y=fixed(r_y), limx = fixed(limrx), limy=fixed(limry), t=widgets.IntSlider(min=0, max=len(r_x)-1, step=1, value= int(len(r_x)/2)));"
   ]
  },
  {
   "cell_type": "code",
   "execution_count": 32,
   "metadata": {},
   "outputs": [
    {
     "data": {
      "application/vnd.jupyter.widget-view+json": {
       "model_id": "07dab3ce92db46e6b71881601482fedc",
       "version_major": 2,
       "version_minor": 0
      },
      "text/plain": [
       "interactive(children=(IntSlider(value=1, description='t', max=50), Output()), _dom_classes=('widget-interact',…"
      ]
     },
     "metadata": {},
     "output_type": "display_data"
    }
   ],
   "source": [
    "#Zoomed in part of simulation to show clustering\n",
    "interact(IntPlot, x = fixed(r_x), y=fixed(r_y), limx = fixed(25), limy=fixed(25), t=widgets.IntSlider(min=0, max=50, step=1, value= 1));"
   ]
  },
  {
   "cell_type": "code",
   "execution_count": null,
   "metadata": {},
   "outputs": [],
   "source": []
  }
 ],
 "metadata": {
  "kernelspec": {
   "display_name": "Python 3",
   "language": "python",
   "name": "python3"
  },
  "language_info": {
   "codemirror_mode": {
    "name": "ipython",
    "version": 3
   },
   "file_extension": ".py",
   "mimetype": "text/x-python",
   "name": "python",
   "nbconvert_exporter": "python",
   "pygments_lexer": "ipython3",
   "version": "3.7.4"
  }
 },
 "nbformat": 4,
 "nbformat_minor": 2
}
