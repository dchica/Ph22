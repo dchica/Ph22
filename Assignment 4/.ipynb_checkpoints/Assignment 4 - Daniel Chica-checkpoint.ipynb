{
 "cells": [
  {
   "cell_type": "code",
   "execution_count": 1,
   "metadata": {},
   "outputs": [],
   "source": [
    "from matplotlib import pyplot as plt\n",
    "import numpy as np\n",
    "import matplotlib\n",
    "import math\n",
    "\n",
    "from ipywidgets import interact, widgets, fixed"
   ]
  },
  {
   "cell_type": "markdown",
   "metadata": {},
   "source": [
    "Problem 1"
   ]
  },
  {
   "cell_type": "code",
   "execution_count": 2,
   "metadata": {},
   "outputs": [],
   "source": [
    "def FF(m, r):\n",
    "    #G = 6.6742*10**(-11)\n",
    "    G = 1\n",
    "    if r == 0 or r < .00001:\n",
    "        return 0\n",
    "    else:\n",
    "        return G * m / (r**2)\n",
    "\n",
    "def ForceList(thlist, rlist):\n",
    "    m = 1; #arbitrary for now\n",
    "    xlist = []\n",
    "    ylist = []\n",
    "\n",
    "    for i, r1 in enumerate(rlist):\n",
    "        xtmp = 0\n",
    "        ytmp = 0\n",
    "        \n",
    "        #tmp_i = rlist[i+1:]\n",
    "        #for j, e2 in enumerate(tmp_i):\n",
    "        for j, r2 in enumerate(rlist):\n",
    "            rdif = np.sqrt(r1**2 + r2**2 - 2*r1*r2*np.cos(thlist[i]-thlist[j]))\n",
    "            #print(rdif)\n",
    "            ry1 = r1*np.sin(thlist[i])\n",
    "            ry2 = r2*np.sin(thlist[j])\n",
    "            \n",
    "            rx1 = r1*np.cos(thlist[i])\n",
    "            rx2 = r2*np.cos(thlist[j])\n",
    "            \n",
    "            ydif = ry2-ry1\n",
    "            xdif = rx2-rx1\n",
    "            if rdif == 0:\n",
    "                theta = 0;\n",
    "            else:\n",
    "                theta = np.arctan(np.abs(ydif/xdif)) #relative theta between points\n",
    "            #print(theta)\n",
    "            xf, yf = FF(m, rdif)*np.array([np.cos(theta), np.sin(theta)])\n",
    "            #print(xf, yf)\n",
    "            xtmp += xf * np.sign(xdif)\n",
    "            ytmp += yf * np.sign(ydif)\n",
    "        xlist.append(xtmp)\n",
    "        ylist.append(ytmp)\n",
    "    return xlist, ylist\n",
    "\n",
    "def initpos(thlist, rlist):\n",
    "    xout = []\n",
    "    yout = []\n",
    "    for i, e in enumerate(rlist):\n",
    "        xout.append(e * np.cos(thlist[i]))\n",
    "        yout.append(e * np.sin(thlist[i]))\n",
    "    return (np.array(xout), np.array(yout))\n",
    "\n",
    "def Euler(thlist, rlist, h):\n",
    "    ax0, ay0 = np.array(ForceList(thlist, rlist))\n",
    "    #timescale\n",
    "    R = 1\n",
    "    G = 1\n",
    "    M = 1\n",
    "    sz = len(rlist)\n",
    "    \n",
    "    tdyn = np.sqrt(R**3 /(G * M))\n",
    "    torb = 4*np.pi**tdyn\n",
    "    t_list = np.linspace(0, torb, num=torb/h);\n",
    "    \n",
    "    sz = len(rlist)\n",
    "    #vx0 = np.random.rand(sz) * np.random.choice((-1,1))\n",
    "    #vy0 = np.random.rand(sz) * np.random.choice((-1,1))\n",
    "    vx0 = .1 * np.random.choice((-1,1))\n",
    "    vy0 = .1 * np.random.choice((-1,1))\n",
    "    x0, y0 = initpos(thlist, rlist)\n",
    "    \n",
    "    #x0 = np.array(sz*[0,])\n",
    "    #y0 = np.array(sz*[0,])\n",
    "    #vx0 = np.array(sz*[0,])\n",
    "    #vy0 = np.array(sz*[0,])\n",
    "    \n",
    "    xout = []\n",
    "    yout = []\n",
    "    for t in t_list:\n",
    "        vx1 = vx0 + h*ax0\n",
    "        vy1 = vy0 + h*ay0\n",
    "        x1 = x0 + h*vx0\n",
    "        y1 = y0 + h*vy0\n",
    "        \n",
    "        xout.append(x1)\n",
    "        yout.append(y1)\n",
    "        \n",
    "        vx0=vx1\n",
    "        vy0=vy1\n",
    "        x0=x1\n",
    "        y0=y1\n",
    "    return t_list, xout, yout\n",
    "\n",
    "def maxcheck(x):\n",
    "    lim = 0\n",
    "    for i in x:\n",
    "        tmp1 = max(x)\n",
    "        tmp2 = np.abs(min(x))\n",
    "        tmp3 = 0\n",
    "        if tmp1 > tmp2:\n",
    "            tmp3 = tmp1\n",
    "        else:\n",
    "            tmp3 = tmp2\n",
    "        if tmp3 > lim:\n",
    "            lim = tmp3\n",
    "    return lim\n",
    "\n",
    "def lim(x):\n",
    "    lim = maxcheck(x[-1])\n",
    "    return math.ceil(lim*1.2)\n",
    "\n",
    "def IntPlot(t, x, y, limx, limy):\n",
    "    plt.plot(x[t], y[t], 'ro')\n",
    "    plt.xlim(-limx, limx)\n",
    "    plt.ylim(-limy, limy)\n",
    "    return (x[t], y[t])"
   ]
  },
  {
   "cell_type": "code",
   "execution_count": 3,
   "metadata": {},
   "outputs": [
    {
     "name": "stderr",
     "output_type": "stream",
     "text": [
      "C:\\ProgramData\\Anaconda3\\lib\\site-packages\\ipykernel_launcher.py:62: DeprecationWarning: object of type <class 'numpy.float64'> cannot be safely interpreted as an integer.\n"
     ]
    }
   ],
   "source": [
    "thl = [0, np.pi/2, np.pi, 3*np.pi/2]\n",
    "rl = [1, 2, 3, 4]\n",
    "\n",
    "tl, x, y = Euler(thl, rl, .01)\n",
    "limx = lim(x)\n",
    "limy = lim(y)"
   ]
  },
  {
   "cell_type": "code",
   "execution_count": 4,
   "metadata": {
    "scrolled": true
   },
   "outputs": [
    {
     "data": {
      "application/vnd.jupyter.widget-view+json": {
       "model_id": "0da6df962ab24ea995dd4670d8907184",
       "version_major": 2,
       "version_minor": 0
      },
      "text/plain": [
       "interactive(children=(IntSlider(value=300, description='t', max=1255), Output()), _dom_classes=('widget-intera…"
      ]
     },
     "metadata": {},
     "output_type": "display_data"
    }
   ],
   "source": [
    "#Test on 4 particle system\n",
    "interact(IntPlot, x = fixed(x), y=fixed(y), limx=fixed(limx), limy=fixed(limy), t=widgets.IntSlider(min=0, max=len(x)-1, step=1, value= 300));"
   ]
  },
  {
   "cell_type": "markdown",
   "metadata": {},
   "source": [
    "Problem 2"
   ]
  },
  {
   "cell_type": "code",
   "execution_count": 5,
   "metadata": {},
   "outputs": [
    {
     "name": "stderr",
     "output_type": "stream",
     "text": [
      "C:\\ProgramData\\Anaconda3\\lib\\site-packages\\ipykernel_launcher.py:62: DeprecationWarning: object of type <class 'numpy.float64'> cannot be safely interpreted as an integer.\n"
     ]
    }
   ],
   "source": [
    "#Setting up random intital conditions\n",
    "r_thl = np.random.rand(100) * 2*np.pi\n",
    "r_rl = np.random.rand(100)\n",
    "tl, r_x, r_y = Euler(r_thl, r_rl, .005)\n",
    "\n",
    "limrx = lim(r_x)\n",
    "limry = lim(r_y)"
   ]
  },
  {
   "cell_type": "code",
   "execution_count": 6,
   "metadata": {},
   "outputs": [
    {
     "data": {
      "application/vnd.jupyter.widget-view+json": {
       "model_id": "4e875717d7cb4fe2ae980298316f0132",
       "version_major": 2,
       "version_minor": 0
      },
      "text/plain": [
       "interactive(children=(IntSlider(value=1256, description='t', max=2512), Output()), _dom_classes=('widget-inter…"
      ]
     },
     "metadata": {},
     "output_type": "display_data"
    }
   ],
   "source": [
    "#Large-Scale simulation\n",
    "interact(IntPlot, x = fixed(r_x), y=fixed(r_y), limx = fixed(limrx), limy=fixed(limry), t=widgets.IntSlider(min=0, max=len(r_x)-1, step=1, value= int(len(r_x)/2)));"
   ]
  },
  {
   "cell_type": "code",
   "execution_count": 7,
   "metadata": {},
   "outputs": [
    {
     "data": {
      "application/vnd.jupyter.widget-view+json": {
       "model_id": "5b2cee3640994cbc9b90f0edf5376841",
       "version_major": 2,
       "version_minor": 0
      },
      "text/plain": [
       "interactive(children=(IntSlider(value=1, description='t', max=50), Output()), _dom_classes=('widget-interact',…"
      ]
     },
     "metadata": {},
     "output_type": "display_data"
    }
   ],
   "source": [
    "#Zoomed in part of simulation to show clustering\n",
    "interact(IntPlot, x = fixed(r_x), y=fixed(r_y), limx = fixed(25), limy=fixed(25), t=widgets.IntSlider(min=0, max=50, step=1, value= 1));"
   ]
  }
 ],
 "metadata": {
  "kernelspec": {
   "display_name": "Python 3",
   "language": "python",
   "name": "python3"
  },
  "language_info": {
   "codemirror_mode": {
    "name": "ipython",
    "version": 3
   },
   "file_extension": ".py",
   "mimetype": "text/x-python",
   "name": "python",
   "nbconvert_exporter": "python",
   "pygments_lexer": "ipython3",
   "version": "3.7.4"
  }
 },
 "nbformat": 4,
 "nbformat_minor": 2
}
